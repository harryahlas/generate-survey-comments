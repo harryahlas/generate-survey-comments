{
  "nbformat": 4,
  "nbformat_minor": 0,
  "metadata": {
    "colab": {
      "name": "Interactive textgenrnn Demo w/ GPU",
      "provenance": [],
      "collapsed_sections": [],
      "toc_visible": true,
      "include_colab_link": true
    },
    "kernelspec": {
      "name": "python3",
      "display_name": "Python 3"
    },
    "accelerator": "GPU"
  },
  "cells": [
    {
      "cell_type": "markdown",
      "metadata": {
        "id": "view-in-github",
        "colab_type": "text"
      },
      "source": [
        "<a href=\"https://colab.research.google.com/github/harryahlas/generate-survey-comments/blob/master/Interactive_textgenrnn_Comment_Generator_w_GPU.ipynb\" target=\"_parent\"><img src=\"https://colab.research.google.com/assets/colab-badge.svg\" alt=\"Open In Colab\"/></a>"
      ]
    },
    {
      "cell_type": "markdown",
      "metadata": {
        "id": "H7LoMj4GA4n_"
      },
      "source": [
        "#  Interactive textgenrnn Demo w/ GPU\n",
        "\n",
        "by [Max Woolf](http://minimaxir.com)\n",
        "\n",
        "*Last updated: April 27tht, 2020*\n",
        "\n",
        "Generate text using a pretrained neural network with a few lines of code, or easily train your own text-generating neural network of any size and complexity, **for free on a GPU using Collaboratory!**\n",
        "\n",
        "For more about textgenrnn, you can visit [this GitHub repository](https://github.com/minimaxir/textgenrnn).\n",
        "\n",
        "\n",
        "To get started:\n",
        "\n",
        "1. Copy this notebook to your Google Drive to keep it and save your changes.\n",
        "2. Make sure you're running the notebook in Google Chrome.\n",
        "3. Run the cells below:\n"
      ]
    },
    {
      "cell_type": "code",
      "metadata": {
        "id": "qbs57FeUybgL",
        "colab": {
          "base_uri": "https://localhost:8080/"
        },
        "outputId": "11439884-c894-4185-c56b-361ea2345062"
      },
      "source": [
        "%tensorflow_version 1.x"
      ],
      "execution_count": 1,
      "outputs": [
        {
          "output_type": "stream",
          "text": [
            "TensorFlow 1.x selected.\n"
          ],
          "name": "stdout"
        }
      ]
    },
    {
      "cell_type": "code",
      "metadata": {
        "id": "KBkpRgBCBS2_",
        "colab": {
          "base_uri": "https://localhost:8080/"
        },
        "outputId": "dad72493-5d84-4bb0-cfde-50d159195780"
      },
      "source": [
        "!pip install -q textgenrnn\n",
        "from google.colab import files\n",
        "from textgenrnn import textgenrnn\n",
        "from datetime import datetime\n",
        "import os"
      ],
      "execution_count": 2,
      "outputs": [
        {
          "output_type": "stream",
          "text": [
            "Using TensorFlow backend.\n"
          ],
          "name": "stderr"
        },
        {
          "output_type": "stream",
          "text": [
            "WARNING:tensorflow:From /tensorflow-1.15.2/python3.7/tensorflow_core/python/ops/resource_variable_ops.py:1630: calling BaseResourceVariable.__init__ (from tensorflow.python.ops.resource_variable_ops) with constraint is deprecated and will be removed in a future version.\n",
            "Instructions for updating:\n",
            "If using Keras pass *_constraint arguments to layers.\n"
          ],
          "name": "stdout"
        }
      ]
    },
    {
      "cell_type": "markdown",
      "metadata": {
        "id": "0wXB05bPDYxS"
      },
      "source": [
        "Set the textgenrnn model configuration here: the default parameters here give good results for most workflows. (see the [demo notebook](https://github.com/minimaxir/textgenrnn/blob/master/docs/textgenrnn-demo.ipynb) for more information about these parameters)\n",
        "\n",
        "If you are using an input file where documents are line-delimited, make sure to set `line_delimited` to `True`."
      ]
    },
    {
      "cell_type": "code",
      "metadata": {
        "id": "P8wSlgXoDPCR"
      },
      "source": [
        "model_cfg = {\n",
        "    'word_level': False,   # set to True if want to train a word-level model (requires more data and smaller max_length)\n",
        "    'rnn_size': 128,   # number of LSTM cells of each layer (128/256 recommended)\n",
        "    'rnn_layers': 3,   # number of LSTM layers (>=2 recommended)\n",
        "    'rnn_bidirectional': False,   # consider text both forwards and backward, can give a training boost\n",
        "    'max_length': 30,   # number of tokens to consider before predicting the next (20-40 for characters, 5-10 for words recommended)\n",
        "    'max_words': 10000,   # maximum number of words to model; the rest will be ignored (word-level model only)\n",
        "}\n",
        "\n",
        "train_cfg = {\n",
        "    'line_delimited': True,   # set to True if each text has its own line in the source file\n",
        "    'num_epochs': 20,   # set higher to train the model for longer\n",
        "    'gen_epochs': 5,   # generates sample text from model after given number of epochs\n",
        "    'train_size': 0.8,   # proportion of input data to train on: setting < 1.0 limits model from learning perfectly\n",
        "    'dropout': 0.0,   # ignore a random proportion of source tokens each epoch, allowing model to generalize better\n",
        "    'validation': False,   # If train__size < 1.0, test on holdout dataset; will make overall training slower\n",
        "    'is_csv': True   # set to True if file is a CSV exported from Excel/BigQuery/pandas\n",
        "}"
      ],
      "execution_count": 3,
      "outputs": []
    },
    {
      "cell_type": "markdown",
      "metadata": {
        "id": "BT__brhBCvJu"
      },
      "source": [
        "In the Colaboratory Notebook sidebar on the left of the screen, select *Files*. From there you can upload files:\n",
        "\n",
        "![alt text](https://i.imgur.com/TGcZT4h.png)\n",
        "\n",
        "Upload **any text file** and update the file name in the cell below, then run the cell."
      ]
    },
    {
      "cell_type": "code",
      "metadata": {
        "id": "6OFnPCLADfll"
      },
      "source": [
        "file_name = \"training_comments.csv\"\n",
        "model_name = 'colaboratory'   # change to set file name of resulting trained models/texts"
      ],
      "execution_count": 4,
      "outputs": []
    },
    {
      "cell_type": "markdown",
      "metadata": {
        "id": "LdpZQXknFNY3"
      },
      "source": [
        "The next cell will start the actual training. And thanks to the power of Keras's CuDNN layers, training is super-fast when compared to CPU training on a local machine!\n",
        "\n",
        "Ideally, you want a training loss less than `1.0` in order for the model to create sensible text consistently."
      ]
    },
    {
      "cell_type": "code",
      "metadata": {
        "id": "aeXshJM-Cuaf",
        "colab": {
          "base_uri": "https://localhost:8080/"
        },
        "outputId": "4d8512b3-2718-4e97-dbaa-cdda042a5468"
      },
      "source": [
        "textgen = textgenrnn(name=model_name)\n",
        "\n",
        "train_function = textgen.train_from_file if train_cfg['line_delimited'] else textgen.train_from_largetext_file\n",
        "\n",
        "train_function(\n",
        "    file_path=file_name,\n",
        "    new_model=True,\n",
        "    num_epochs=train_cfg['num_epochs'],\n",
        "    gen_epochs=train_cfg['gen_epochs'],\n",
        "    batch_size=1024,\n",
        "    train_size=train_cfg['train_size'],\n",
        "    dropout=train_cfg['dropout'],\n",
        "    validation=train_cfg['validation'],\n",
        "    is_csv=train_cfg['is_csv'],\n",
        "    rnn_layers=model_cfg['rnn_layers'],\n",
        "    rnn_size=model_cfg['rnn_size'],\n",
        "    rnn_bidirectional=model_cfg['rnn_bidirectional'],\n",
        "    max_length=model_cfg['max_length'],\n",
        "    dim_embeddings=100,\n",
        "    word_level=model_cfg['word_level'])"
      ],
      "execution_count": 6,
      "outputs": [
        {
          "output_type": "stream",
          "text": [
            "4,414 texts collected.\n",
            "Training new model w/ 3-layer, 128-cell LSTMs\n",
            "Training on 493,475 character sequences.\n",
            "WARNING:tensorflow:From /tensorflow-1.15.2/python3.7/keras/backend/tensorflow_backend.py:422: The name tf.global_variables is deprecated. Please use tf.compat.v1.global_variables instead.\n",
            "\n",
            "Epoch 1/20\n",
            "481/481 [==============================] - 40s 83ms/step - loss: 3.1232\n",
            "Epoch 2/20\n",
            "481/481 [==============================] - 34s 70ms/step - loss: 2.2105\n",
            "Epoch 3/20\n",
            "481/481 [==============================] - 34s 70ms/step - loss: 1.7095\n",
            "Epoch 4/20\n",
            "481/481 [==============================] - 34s 71ms/step - loss: 1.5150\n",
            "Epoch 5/20\n",
            "481/481 [==============================] - 34s 70ms/step - loss: 1.4153\n",
            "####################\n",
            "Temperature: 0.2\n",
            "####################\n",
            "I think they are not things and things are too much and the city is to the problem and things and things to be a problem when they are too much and things to be a company to the problems and the city conserve to the city is a streets and things that they are a great to be a problem with the city i\n",
            "\n",
            "Stop the problem to things to be a problem in the city is to the city would be a see things to be a community and things and competitions and things to be a control of the city continue to things and work and the city is a problem in the city is a great and the city would be a problem and the city\n",
            "\n",
            "SUBLERS TO MAKE THAT ARE A TRANSPORTATION AND STREETS TO BE A MORE IN AUSTIN AND THE CITY AND THE MORE AND THE STREETS AND THE STANT TO CONSERVICE TO ALL THE AUSTIN IS A PARKING AND THE CITY ON AUSTIN WHEN THE STREETS AND AUSTIN IS A TRAFFIC IN A MAJOR THE STREETS TO BE A TRAFFIC IS A TRAFFIC IS A\n",
            "\n",
            "####################\n",
            "Temperature: 0.5\n",
            "####################\n",
            "No a women and live in the city more experience is think they succepent the city of this inclusive and opportunity in their a police to bus on the same and public transit that a specific continues to live in the city. The city of the city. It airnew about the city and work well to be build afforda\n",
            "\n",
            "Ensure the problem and personal and work would also would not and allowing on a streets and encourage service long the city continue to get to thing to that it is a problem. I would not work with the city leave there are to things are good to have a common to bike less to control to get resident i\n",
            "\n",
            "Stop things are provide that to continue to control to the city is a streets and offer consideration to the each and to work on the not able to be to more people of the can so much in this is a way to have a scient of the states in the city had to go to Austin and to thing to live in the project t\n",
            "\n",
            "####################\n",
            "Temperature: 1.0\n",
            "####################\n",
            "TRANSPORTATE OF AUSTIN UP OVER THAT TRAFFIC REGRESENER.\n",
            "\n",
            "To collect: I am place much fields to make city. This cuytowen menters, not an in resident for that can't created is race more and bruger to interest and opinions\n",
            "\n",
            "WE NEET OF TAKE AFFORDABLE. WITH THE EXCATE VERE 361 HAS THERE.\n",
            "\n",
            "Epoch 6/20\n",
            "481/481 [==============================] - 33s 68ms/step - loss: 1.3506\n",
            "Epoch 7/20\n",
            "481/481 [==============================] - 34s 70ms/step - loss: 1.3015\n",
            "Epoch 8/20\n",
            "481/481 [==============================] - 34s 70ms/step - loss: 1.2606\n",
            "Epoch 9/20\n",
            "481/481 [==============================] - 34s 70ms/step - loss: 1.2255\n",
            "Epoch 10/20\n",
            "481/481 [==============================] - 33s 69ms/step - loss: 1.1933\n",
            "####################\n",
            "Temperature: 0.2\n",
            "####################\n",
            "I wish the city has been a price to the problem with the city of Austin and the problem with the same as a residents and the city with the city council will need to be a problem with the city is a problem when you want to see a way to see the city council is a great place to live in the city was a\n",
            "\n",
            "I think they are not all the city with the city council needs to be a problem and experience and all the tax burden and the city with a larger business and the city with the problem with the problem was always are not a problem with the problem when it is a problem and a price the homeless problem\n",
            "\n",
            "The city is a great place to live in Austin is a great place to live in the city ways to all the city was a way to compete with the problem with the problem when they are all the competing and are not a problem in the street lighting and work and the city council is a way to make the city council \n",
            "\n",
            "####################\n",
            "Temperature: 0.5\n",
            "####################\n",
            "Also feel that the declining out of conducition is well and be a female on the city with the faster and weekend the problem with an a way to address the problem when I moved in Austin is too high.\n",
            "\n",
            "The opmer my job and in the same problem of Austin is there were a management and the really city and the city is a control of that is a gender bike lanes of a diverse in the city planning have not encourage business in a faster than as a resident that are not a pregress of the park of growth and \n",
            "\n",
            "I would like to see open as a community to have so much of the city.\n",
            "\n",
            "####################\n",
            "Temperature: 1.0\n",
            "####################\n",
            "NO SO MUSIC IN You community to regarding a water recycle on gender sprackive Cause)\n",
            "\n",
            "Address price that are support for Austin Knows as a unifice that are obs are drivers for bridges to presercal congent: Each street lighting more which is green. We dependent on self-183 to 13 management. I want to hope years on rebates that rack city -- makes my water like serving out of signifie\n",
            "\n",
            "Please do,ing a daigeration paiding to residents protection of so your plans than your revabuely have water to the numab years I sefen year.\n",
            "\n",
            "Epoch 11/20\n",
            "481/481 [==============================] - 32s 67ms/step - loss: 1.1635\n",
            "Epoch 12/20\n",
            "481/481 [==============================] - 33s 69ms/step - loss: 1.1356\n",
            "Epoch 13/20\n",
            "481/481 [==============================] - 33s 69ms/step - loss: 1.1083\n",
            "Epoch 14/20\n",
            "481/481 [==============================] - 34s 71ms/step - loss: 1.0820\n",
            "Epoch 15/20\n",
            "481/481 [==============================] - 33s 69ms/step - loss: 1.0574\n",
            "####################\n",
            "Temperature: 0.2\n",
            "####################\n",
            "I am sorry what I do not have to do the same opportunity those who are not affordable housing in the same as a resident of the same to resolve businesses to competed in the city and the same time of the city to live in Austin and the state of the same as a competition of the city groups to come fr\n",
            "\n",
            "The city is a great place to live in Austin and the same as a women and we want to be a lot of the same to work and should be a problem. I am sorry have to provide a safe space to the residents and the same thing that is a group of the streets and the streets and the traffic lights and the same to\n",
            "\n",
            "I would like to see more people to the need to be a man street line and the same thing that are always and we have to provide a safe specific academic and the city is a disadvantage of the streets and provide support and the people who have the consider that women are not encouraging the same as a\n",
            "\n",
            "####################\n",
            "Temperature: 0.5\n",
            "####################\n",
            "Austin needs at the same with professional possible with a better money and high in the same people who have here to change to see the more and will be a great job and real cost of my living in Austin. It is a female empowerment level of people who don't have to the property taxes. The city counci\n",
            "\n",
            "I would love to see more people of status between the way too much transportation of laws and how the problem and even subjectively increase the cost of living here in the suburb with homeless population to the bust to work everyone over those who are form that they are not respect to make sure yo\n",
            "\n",
            "I think they are gender specific groups are way too much the ones on groups with the solution and from the safety and the next for the money on the streets are all the south construction with the signs that say we are a parent, and live here and that it is a person to the need to get the homeless \n",
            "\n",
            "####################\n",
            "Temperature: 1.0\n",
            "####################\n",
            "Improve public ride support never experience.\n",
            "\n",
            "I feel like called disrespectful. Traffic is to us. Is nharrancy onched to presade in a diverse growth.\n",
            "\n",
            "Never competing growth is unreasonable or experience who are an eth happy to many 8 vious and teachers of she will no longer the Ameructies). I think that how we code Unarie and see this to pay for while cost the most the next is like this groups.\n",
            "\n",
            "Epoch 16/20\n",
            "481/481 [==============================] - 33s 68ms/step - loss: 1.0332\n",
            "Epoch 17/20\n",
            "481/481 [==============================] - 34s 70ms/step - loss: 1.0104\n",
            "Epoch 18/20\n",
            "481/481 [==============================] - 33s 69ms/step - loss: 0.9880\n",
            "Epoch 19/20\n",
            "481/481 [==============================] - 33s 69ms/step - loss: 0.9684\n",
            "Epoch 20/20\n",
            "481/481 [==============================] - 34s 70ms/step - loss: 0.9509\n",
            "####################\n",
            "Temperature: 0.2\n",
            "####################\n",
            "Stop worring the growth and start different places to be a very safe and provided by the public transportation in the city and the city and the city wasted in the city of Austin and I don't want to see the city council is a hackathon and the same as a big on the more experiences in the city and th\n",
            "\n",
            "I think they are gender specific competitions and the city and the city and the city water in the city and the city council is a deal benefit for the reality of the city to continue to the problem of the streets and programs that are always should be able to pay for the police for the same thing. \n",
            "\n",
            "The city needs to be more effectively and stop taking and start different people who can pull the same response to a competition, which is a safe space to the city and the streets and the city streets with the city is too high and are not support to continue to be a competition of city management \n",
            "\n",
            "####################\n",
            "Temperature: 0.5\n",
            "####################\n",
            "Stop cars about the property taxes in these groups that are more contractor.\n",
            "\n",
            "More programs that are considered mentorship and problems and the city council is not the people who make a pleas solved between and favor the problem. I have lived in Austin and are paid for the problem. I have letting at a respect of family for it.\n",
            "\n",
            "Traffic congestion and providing stuff and female property taxes and correctness that are out of control.\n",
            "\n",
            "####################\n",
            "Temperature: 1.0\n",
            "####################\n",
            "improve traffic is too incredible.\n",
            "\n",
            "Ask they are allowed for debt and many city programs to fight hazard, and feelings of support, routes it with direction has been a fixecouns. I would love to senior to improve traffic! They can be very tind his paying to the way, (grow on the group, supervisor age with money ignored that gender be\n",
            "\n",
            "My ideal team is a group of on them. He people work on rive and fair services and many chribumat personal day party of bories about.\n",
            "\n"
          ],
          "name": "stdout"
        }
      ]
    },
    {
      "cell_type": "markdown",
      "metadata": {
        "id": "RTa6zf3e_9gV"
      },
      "source": [
        "You can download a large amount of generated text from your model with the cell below! Rerun the cell as many times as you want for even more text!"
      ]
    },
    {
      "cell_type": "code",
      "metadata": {
        "id": "-fxL77nvAMAX"
      },
      "source": [
        "# this temperature schedule cycles between 1 very unexpected token, 1 unexpected token, 2 expected tokens, repeat.\n",
        "# changing the temperature schedule can result in wildly different output!\n",
        "temperature = [1.0, 0.5, 0.2, 0.2]   \n",
        "prefix = None   # if you want each generated text to start with a given seed text\n",
        "\n",
        "if train_cfg['line_delimited']:\n",
        "  n = 1000\n",
        "  max_gen_length = 60 if model_cfg['word_level'] else 300\n",
        "else:\n",
        "  n = 1\n",
        "  max_gen_length = 2000 if model_cfg['word_level'] else 10000\n",
        "  \n",
        "timestring = datetime.now().strftime('%Y%m%d_%H%M%S')\n",
        "gen_file = '{}_gentext_{}.txt'.format(model_name, timestring)\n",
        "\n",
        "textgen.generate_to_file(gen_file,\n",
        "                         temperature=temperature,\n",
        "                         prefix=prefix,\n",
        "                         n=n,\n",
        "                         max_gen_length=max_gen_length)\n",
        "files.download(gen_file)"
      ],
      "execution_count": null,
      "outputs": []
    },
    {
      "cell_type": "markdown",
      "metadata": {
        "id": "ClJwpF_ACONp"
      },
      "source": [
        "You can download the weights and configuration files in the cell below, allowing you recreate the model on your own computer!"
      ]
    },
    {
      "cell_type": "code",
      "metadata": {
        "id": "4RNY6RBI9LmL"
      },
      "source": [
        "files.download('{}_weights.hdf5'.format(model_name))\n",
        "files.download('{}_vocab.json'.format(model_name))\n",
        "files.download('{}_config.json'.format(model_name))"
      ],
      "execution_count": null,
      "outputs": []
    },
    {
      "cell_type": "markdown",
      "metadata": {
        "id": "oF4-PqF0Fl7R"
      },
      "source": [
        "To recreate the model on your own computer, after installing textgenrnn and TensorFlow, you can create a Python script with:\n",
        "\n",
        "```\n",
        "from textgenrnn import textgenrnn\n",
        "textgen = textgenrnn(weights_path='colaboratory_weights.hdf5',\n",
        "                       vocab_path='colaboratory_vocab.json',\n",
        "                       config_path='colaboratory_config.json')\n",
        "                       \n",
        "textgen.generate_samples(max_gen_length=1000)\n",
        "textgen.generate_to_file('textgenrnn_texts.txt', max_gen_length=1000)\n",
        "```\n",
        "\n",
        "Have fun with your new model! :)"
      ]
    },
    {
      "cell_type": "markdown",
      "metadata": {
        "id": "92Zjtsb_Dgj-"
      },
      "source": [
        "# Etcetera\n",
        "\n",
        "If the model fails to load on a local machine due to a model-size-not-matching bug (common in >30MB weights), this is due to a file export bug from Colaboratory. To work around this issue, save the weights to Google Drive with the two cells below and download from there."
      ]
    },
    {
      "cell_type": "code",
      "metadata": {
        "id": "F-IzscxUHmAB"
      },
      "source": [
        "!pip install -U -q PyDrive\n",
        "from pydrive.auth import GoogleAuth\n",
        "from pydrive.drive import GoogleDrive\n",
        "from google.colab import auth\n",
        "from google.colab import files\n",
        "from oauth2client.client import GoogleCredentials\n",
        "\n",
        "auth.authenticate_user()\n",
        "gauth = GoogleAuth()\n",
        "gauth.credentials = GoogleCredentials.get_application_default()\n",
        "drive = GoogleDrive(gauth)"
      ],
      "execution_count": null,
      "outputs": []
    },
    {
      "cell_type": "code",
      "metadata": {
        "id": "WR4_XJpfKAIn",
        "colab": {
          "base_uri": "https://localhost:8080/",
          "height": 35
        },
        "outputId": "f70ce499-1062-4968-8423-c7dbcd71cc5d"
      },
      "source": [
        "uploaded = drive.CreateFile({'title': '{}_weights.hdf5'.format(model_name)})\n",
        "uploaded.SetContentFile('{}_weights.hdf5'.format(model_name))\n",
        "uploaded.Upload()\n",
        "print('Uploaded file with ID {}'.format(uploaded.get('id')))"
      ],
      "execution_count": null,
      "outputs": [
        {
          "output_type": "stream",
          "text": [
            "Uploaded file with ID 1b6T6M32YnXs-c0NB-PEi6MhAdCuG7RHy\n"
          ],
          "name": "stdout"
        }
      ]
    },
    {
      "cell_type": "markdown",
      "metadata": {
        "id": "ig-KVgkCDCKD"
      },
      "source": [
        "If the notebook has errors (e.g. GPU Sync Fail), force-kill the Colaboratory virtual machine and restart it with the command below:"
      ]
    },
    {
      "cell_type": "code",
      "metadata": {
        "id": "rIHiVP53FnsX"
      },
      "source": [
        "!kill -9 -1"
      ],
      "execution_count": null,
      "outputs": []
    }
  ]
}